{
 "cells": [
  {
   "cell_type": "code",
   "execution_count": 64,
   "id": "2919c1f0-2852-4c26-a4e7-5a35e531cc3b",
   "metadata": {},
   "outputs": [],
   "source": [
    "import tkinter as tk\n",
    "import datetime as dt\n",
    "import time"
   ]
  },
  {
   "cell_type": "code",
   "execution_count": 2,
   "id": "7ddbe28b-952a-450e-ad86-5fb31205bbfa",
   "metadata": {},
   "outputs": [
    {
     "ename": "RuntimeError",
     "evalue": "Too early to run the main loop: no default root window",
     "output_type": "error",
     "traceback": [
      "\u001b[0;31m---------------------------------------------------------------------------\u001b[0m",
      "\u001b[0;31mRuntimeError\u001b[0m                              Traceback (most recent call last)",
      "Cell \u001b[0;32mIn [2], line 1\u001b[0m\n\u001b[0;32m----> 1\u001b[0m \u001b[43mtk\u001b[49m\u001b[38;5;241;43m.\u001b[39;49m\u001b[43mmainloop\u001b[49m\u001b[43m(\u001b[49m\u001b[43m)\u001b[49m\n",
      "File \u001b[0;32m/usr/lib/python3.10/tkinter/__init__.py:628\u001b[0m, in \u001b[0;36mmainloop\u001b[0;34m(n)\u001b[0m\n\u001b[1;32m    626\u001b[0m \u001b[38;5;28;01mdef\u001b[39;00m \u001b[38;5;21mmainloop\u001b[39m(n\u001b[38;5;241m=\u001b[39m\u001b[38;5;241m0\u001b[39m):\n\u001b[1;32m    627\u001b[0m     \u001b[38;5;124;03m\"\"\"Run the main loop of Tcl.\"\"\"\u001b[39;00m\n\u001b[0;32m--> 628\u001b[0m     \u001b[43m_get_default_root\u001b[49m\u001b[43m(\u001b[49m\u001b[38;5;124;43m'\u001b[39;49m\u001b[38;5;124;43mrun the main loop\u001b[39;49m\u001b[38;5;124;43m'\u001b[39;49m\u001b[43m)\u001b[49m\u001b[38;5;241m.\u001b[39mtk\u001b[38;5;241m.\u001b[39mmainloop(n)\n",
      "File \u001b[0;32m/usr/lib/python3.10/tkinter/__init__.py:297\u001b[0m, in \u001b[0;36m_get_default_root\u001b[0;34m(what)\u001b[0m\n\u001b[1;32m    295\u001b[0m \u001b[38;5;28;01mif\u001b[39;00m _default_root \u001b[38;5;129;01mis\u001b[39;00m \u001b[38;5;28;01mNone\u001b[39;00m:\n\u001b[1;32m    296\u001b[0m     \u001b[38;5;28;01mif\u001b[39;00m what:\n\u001b[0;32m--> 297\u001b[0m         \u001b[38;5;28;01mraise\u001b[39;00m \u001b[38;5;167;01mRuntimeError\u001b[39;00m(\u001b[38;5;124mf\u001b[39m\u001b[38;5;124m\"\u001b[39m\u001b[38;5;124mToo early to \u001b[39m\u001b[38;5;132;01m{\u001b[39;00mwhat\u001b[38;5;132;01m}\u001b[39;00m\u001b[38;5;124m: no default root window\u001b[39m\u001b[38;5;124m\"\u001b[39m)\n\u001b[1;32m    298\u001b[0m     root \u001b[38;5;241m=\u001b[39m Tk()\n\u001b[1;32m    299\u001b[0m     \u001b[38;5;28;01massert\u001b[39;00m _default_root \u001b[38;5;129;01mis\u001b[39;00m root\n",
      "\u001b[0;31mRuntimeError\u001b[0m: Too early to run the main loop: no default root window"
     ]
    }
   ],
   "source": [
    "tk.mainloop()"
   ]
  },
  {
   "cell_type": "code",
   "execution_count": 14,
   "id": "caa01297-ede4-4851-ae23-2baaecfe4433",
   "metadata": {},
   "outputs": [],
   "source": [
    "def action(text):\n",
    "    print(text)"
   ]
  },
  {
   "cell_type": "code",
   "execution_count": 91,
   "id": "844797de-76fa-4b43-a043-c4d8368310d1",
   "metadata": {},
   "outputs": [],
   "source": [
    "def break_popup(parent_window):\n",
    "    ## Minimizing the parent window\n",
    "    parent_window.wm_state('iconic')\n",
    "    parent_window.iconify()\n",
    "\n",
    "    ## setting popup time to 5 mins.\n",
    "    t_end = (time.time() + 60) * 5\n",
    "    \n",
    "    while 1:\n",
    "        if time.time() < t_end:\n",
    "            pass;\n",
    "        else:\n",
    "            break_time = dt.datetime.now() + dt.timedelta(minutes=5)\n",
    "            root = tk.Tk()\n",
    "            root.title(\"Pomodoro Meesage\")\n",
    "            width= root.winfo_screenwidth() \n",
    "            height= root.winfo_screenheight()\n",
    "            #setting tkinter window size\n",
    "            root.geometry(\"%dx%d\" % (width, height))\n",
    "            # root.attributes(\"-fullscreen\", True)    \n",
    "            root.attributes('-alpha', 0.5)\n",
    "            task = tk.Label(root,bg='red',fg='white', text = f\"Break Time !!!\\nLook away for 5 mins and come back at {break_time.strftime('%H:%M:%S')}\")\n",
    "            task.config(width=200, font=(\"Courier\", 44))\n",
    "            task.pack(side=tk.LEFT, expand=True)\n",
    "            try:\n",
    "                from ctypes import windll\n",
    "                windll.shcore.SetProcessDpiAwareness(1)\n",
    "            finally:\n",
    "                root.mainloop()"
   ]
  },
  {
   "cell_type": "code",
   "execution_count": 81,
   "id": "bc96a0e0-2ec7-4e4c-a2eb-e0aab647a613",
   "metadata": {},
   "outputs": [
    {
     "ename": "ImportError",
     "evalue": "cannot import name 'windll' from 'ctypes' (/usr/lib/python3.10/ctypes/__init__.py)",
     "output_type": "error",
     "traceback": [
      "\u001b[0;31m---------------------------------------------------------------------------\u001b[0m",
      "\u001b[0;31mImportError\u001b[0m                               Traceback (most recent call last)",
      "Cell \u001b[0;32mIn [81], line 1\u001b[0m\n\u001b[0;32m----> 1\u001b[0m \u001b[43mbreak_popup\u001b[49m\u001b[43m(\u001b[49m\u001b[43m)\u001b[49m\n",
      "Cell \u001b[0;32mIn [80], line 19\u001b[0m, in \u001b[0;36mbreak_popup\u001b[0;34m()\u001b[0m\n\u001b[1;32m     17\u001b[0m task\u001b[38;5;241m.\u001b[39mpack(side\u001b[38;5;241m=\u001b[39mtk\u001b[38;5;241m.\u001b[39mLEFT, expand\u001b[38;5;241m=\u001b[39m\u001b[38;5;28;01mTrue\u001b[39;00m)\n\u001b[1;32m     18\u001b[0m \u001b[38;5;28;01mtry\u001b[39;00m:\n\u001b[0;32m---> 19\u001b[0m     \u001b[38;5;28;01mfrom\u001b[39;00m \u001b[38;5;21;01mctypes\u001b[39;00m \u001b[38;5;28;01mimport\u001b[39;00m windll\n\u001b[1;32m     20\u001b[0m     windll\u001b[38;5;241m.\u001b[39mshcore\u001b[38;5;241m.\u001b[39mSetProcessDpiAwareness(\u001b[38;5;241m1\u001b[39m)\n\u001b[1;32m     21\u001b[0m \u001b[38;5;28;01mfinally\u001b[39;00m:\n",
      "\u001b[0;31mImportError\u001b[0m: cannot import name 'windll' from 'ctypes' (/usr/lib/python3.10/ctypes/__init__.py)"
     ]
    }
   ],
   "source": [
    "break_popup()"
   ]
  },
  {
   "cell_type": "code",
   "execution_count": 72,
   "id": "1b9d23da-fd0b-454b-9e1e-f5a986477859",
   "metadata": {},
   "outputs": [],
   "source": [
    "# t_end = (time.time() + 10)\n",
    "# while time.time() < t_end:\n",
    "#     print((t_end - time.time()))\n",
    "# # "
   ]
  },
  {
   "cell_type": "code",
   "execution_count": 89,
   "id": "ae962729-2027-4aa7-a3da-93ff270a72d9",
   "metadata": {},
   "outputs": [
    {
     "name": "stderr",
     "output_type": "stream",
     "text": [
      "Exception in Tkinter callback\n",
      "Traceback (most recent call last):\n",
      "  File \"/tmp/ipykernel_187900/2506681794.py\", line 10, in <module>\n",
      "    from ctypes import windll\n",
      "ImportError: cannot import name 'windll' from 'ctypes' (/usr/lib/python3.10/ctypes/__init__.py)\n",
      "\n",
      "During handling of the above exception, another exception occurred:\n",
      "\n",
      "Traceback (most recent call last):\n",
      "  File \"/usr/lib/python3.10/tkinter/__init__.py\", line 1921, in __call__\n",
      "    return self.func(*args)\n",
      "  File \"/tmp/ipykernel_187900/2506681794.py\", line 6, in <lambda>\n",
      "    button = tk.Button(root, text = \"Activate Pomodoro Mode\", command = lambda: break_popup(root))\n",
      "  File \"/tmp/ipykernel_187900/4221918242.py\", line 21, in break_popup\n",
      "    from ctypes import windll\n",
      "ImportError: cannot import name 'windll' from 'ctypes' (/usr/lib/python3.10/ctypes/__init__.py)\n"
     ]
    },
    {
     "ename": "ImportError",
     "evalue": "cannot import name 'windll' from 'ctypes' (/usr/lib/python3.10/ctypes/__init__.py)",
     "output_type": "error",
     "traceback": [
      "\u001b[0;31m---------------------------------------------------------------------------\u001b[0m",
      "\u001b[0;31mImportError\u001b[0m                               Traceback (most recent call last)",
      "Cell \u001b[0;32mIn [89], line 10\u001b[0m\n\u001b[1;32m      7\u001b[0m button\u001b[38;5;241m.\u001b[39mpack(fill\u001b[38;5;241m=\u001b[39m\u001b[38;5;124m'\u001b[39m\u001b[38;5;124mx\u001b[39m\u001b[38;5;124m'\u001b[39m, expand\u001b[38;5;241m=\u001b[39m\u001b[38;5;28;01mTrue\u001b[39;00m, pady\u001b[38;5;241m=\u001b[39m\u001b[38;5;241m10\u001b[39m)\n\u001b[1;32m      9\u001b[0m \u001b[38;5;28;01mtry\u001b[39;00m:\n\u001b[0;32m---> 10\u001b[0m     \u001b[38;5;28;01mfrom\u001b[39;00m \u001b[38;5;21;01mctypes\u001b[39;00m \u001b[38;5;28;01mimport\u001b[39;00m windll\n\u001b[1;32m     11\u001b[0m     windll\u001b[38;5;241m.\u001b[39mshcore\u001b[38;5;241m.\u001b[39mSetProcessDpiAwareness(\u001b[38;5;241m1\u001b[39m)\n\u001b[1;32m     12\u001b[0m \u001b[38;5;28;01mfinally\u001b[39;00m:\n",
      "\u001b[0;31mImportError\u001b[0m: cannot import name 'windll' from 'ctypes' (/usr/lib/python3.10/ctypes/__init__.py)"
     ]
    }
   ],
   "source": [
    "root = tk.Tk()\n",
    "root.title(\"Promodoro Program\")\n",
    "root.geometry('600x400+50+50')\n",
    "root.attributes('-alpha', 0.5)\n",
    "\n",
    "button = tk.Button(root, text = \"Activate Pomodoro Mode\", command = lambda: break_popup(root))\n",
    "button.pack(fill='x', expand=True, pady=10)\n",
    "\n",
    "try:\n",
    "    from ctypes import windll\n",
    "    windll.shcore.SetProcessDpiAwareness(1)\n",
    "finally:\n",
    "    root.mainloop()"
   ]
  },
  {
   "cell_type": "code",
   "execution_count": 73,
   "id": "bd452f85-855f-42d5-aa27-1f1cad949cc9",
   "metadata": {},
   "outputs": [
    {
     "ename": "ImportError",
     "evalue": "cannot import name 'windll' from 'ctypes' (/usr/lib/python3.10/ctypes/__init__.py)",
     "output_type": "error",
     "traceback": [
      "\u001b[0;31m---------------------------------------------------------------------------\u001b[0m",
      "\u001b[0;31mImportError\u001b[0m                               Traceback (most recent call last)",
      "Cell \u001b[0;32mIn [73], line 1\u001b[0m\n\u001b[0;32m----> 1\u001b[0m \u001b[43mbreak_popup\u001b[49m\u001b[43m(\u001b[49m\u001b[43m)\u001b[49m\n",
      "Cell \u001b[0;32mIn [71], line 20\u001b[0m, in \u001b[0;36mbreak_popup\u001b[0;34m()\u001b[0m\n\u001b[1;32m     18\u001b[0m task\u001b[38;5;241m.\u001b[39mpack(side\u001b[38;5;241m=\u001b[39mtk\u001b[38;5;241m.\u001b[39mLEFT, expand\u001b[38;5;241m=\u001b[39m\u001b[38;5;28;01mTrue\u001b[39;00m)\n\u001b[1;32m     19\u001b[0m \u001b[38;5;28;01mtry\u001b[39;00m:\n\u001b[0;32m---> 20\u001b[0m     \u001b[38;5;28;01mfrom\u001b[39;00m \u001b[38;5;21;01mctypes\u001b[39;00m \u001b[38;5;28;01mimport\u001b[39;00m windll\n\u001b[1;32m     21\u001b[0m     windll\u001b[38;5;241m.\u001b[39mshcore\u001b[38;5;241m.\u001b[39mSetProcessDpiAwareness(\u001b[38;5;241m1\u001b[39m)\n\u001b[1;32m     22\u001b[0m \u001b[38;5;28;01mfinally\u001b[39;00m:\n",
      "\u001b[0;31mImportError\u001b[0m: cannot import name 'windll' from 'ctypes' (/usr/lib/python3.10/ctypes/__init__.py)"
     ]
    }
   ],
   "source": [
    "break_popup()"
   ]
  },
  {
   "cell_type": "code",
   "execution_count": 33,
   "id": "f7c2ca1d-8987-4935-9832-c85b66ce75ba",
   "metadata": {},
   "outputs": [],
   "source": [
    "break_time = dt.datetime.now() + dt.timedelta(minutes=5)\n"
   ]
  },
  {
   "cell_type": "code",
   "execution_count": 34,
   "id": "fccd17e2-0b89-4927-9b22-04d55e28a5db",
   "metadata": {},
   "outputs": [
    {
     "data": {
      "text/plain": [
       "datetime.datetime(2024, 5, 14, 18, 59, 44, 733884)"
      ]
     },
     "execution_count": 34,
     "metadata": {},
     "output_type": "execute_result"
    }
   ],
   "source": [
    "break_time"
   ]
  },
  {
   "cell_type": "code",
   "execution_count": 38,
   "id": "3a305a67-68de-4737-a3cd-5a9cb507293b",
   "metadata": {},
   "outputs": [
    {
     "ename": "KeyError",
     "evalue": "'%h'",
     "output_type": "error",
     "traceback": [
      "\u001b[0;31m---------------------------------------------------------------------------\u001b[0m",
      "\u001b[0;31mKeyError\u001b[0m                                  Traceback (most recent call last)",
      "Cell \u001b[0;32mIn [38], line 1\u001b[0m\n\u001b[0;32m----> 1\u001b[0m \u001b[38;5;124;43m\"\u001b[39;49m\u001b[38;5;124;43m{\u001b[39;49m\u001b[38;5;124;43m%\u001b[39;49m\u001b[38;5;124;43mh:\u001b[39;49m\u001b[38;5;124;43m%\u001b[39;49m\u001b[38;5;124;43mm:\u001b[39;49m\u001b[38;5;124;43m%\u001b[39;49m\u001b[38;5;124;43mS}\u001b[39;49m\u001b[38;5;124;43m\"\u001b[39;49m\u001b[38;5;241;43m.\u001b[39;49m\u001b[43mformat\u001b[49m\u001b[43m(\u001b[49m\u001b[43mbreak_time\u001b[49m\u001b[43m)\u001b[49m\n",
      "\u001b[0;31mKeyError\u001b[0m: '%h'"
     ]
    }
   ],
   "source": [
    "\"{%h:%m:%S}\".format(break_time)"
   ]
  },
  {
   "cell_type": "code",
   "execution_count": null,
   "id": "135e4614-f3f2-4675-9a35-6e7093a3460a",
   "metadata": {},
   "outputs": [],
   "source": []
  }
 ],
 "metadata": {
  "kernelspec": {
   "display_name": "Python 3 (ipykernel)",
   "language": "python",
   "name": "python3"
  },
  "language_info": {
   "codemirror_mode": {
    "name": "ipython",
    "version": 3
   },
   "file_extension": ".py",
   "mimetype": "text/x-python",
   "name": "python",
   "nbconvert_exporter": "python",
   "pygments_lexer": "ipython3",
   "version": "3.10.12"
  }
 },
 "nbformat": 4,
 "nbformat_minor": 5
}
